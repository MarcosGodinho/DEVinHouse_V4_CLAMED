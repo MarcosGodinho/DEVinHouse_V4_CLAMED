{
 "cells": [
  {
   "cell_type": "code",
   "id": "initial_id",
   "metadata": {
    "collapsed": true,
    "ExecuteTime": {
     "end_time": "2025-10-21T17:04:07.177149Z",
     "start_time": "2025-10-21T17:04:06.499715Z"
    }
   },
   "source": "import pandas as pd",
   "outputs": [],
   "execution_count": 1
  },
  {
   "metadata": {
    "ExecuteTime": {
     "end_time": "2025-10-21T17:08:44.095846Z",
     "start_time": "2025-10-21T17:08:44.083685Z"
    }
   },
   "cell_type": "code",
   "source": [
    "clientes = pd.read_csv(\"files/clientes.csv\")\n",
    "clientes.head()"
   ],
   "id": "63d3670ff963d50",
   "outputs": [
    {
     "data": {
      "text/plain": [
       "   id_produto            nome    categoria   preco\n",
       "0         201  Fone Bluetooth  Eletrônicos   199.9\n",
       "1         202  Notebook Gamer  Eletrônicos  4999.0\n",
       "2         203    Livro Python       Livros    89.9\n",
       "3         204   Cadeira Gamer       Móveis   799.0\n",
       "4         205      Smartphone  Eletrônicos  2999.0"
      ],
      "text/html": [
       "<div>\n",
       "<style scoped>\n",
       "    .dataframe tbody tr th:only-of-type {\n",
       "        vertical-align: middle;\n",
       "    }\n",
       "\n",
       "    .dataframe tbody tr th {\n",
       "        vertical-align: top;\n",
       "    }\n",
       "\n",
       "    .dataframe thead th {\n",
       "        text-align: right;\n",
       "    }\n",
       "</style>\n",
       "<table border=\"1\" class=\"dataframe\">\n",
       "  <thead>\n",
       "    <tr style=\"text-align: right;\">\n",
       "      <th></th>\n",
       "      <th>id_produto</th>\n",
       "      <th>nome</th>\n",
       "      <th>categoria</th>\n",
       "      <th>preco</th>\n",
       "    </tr>\n",
       "  </thead>\n",
       "  <tbody>\n",
       "    <tr>\n",
       "      <th>0</th>\n",
       "      <td>201</td>\n",
       "      <td>Fone Bluetooth</td>\n",
       "      <td>Eletrônicos</td>\n",
       "      <td>199.9</td>\n",
       "    </tr>\n",
       "    <tr>\n",
       "      <th>1</th>\n",
       "      <td>202</td>\n",
       "      <td>Notebook Gamer</td>\n",
       "      <td>Eletrônicos</td>\n",
       "      <td>4999.0</td>\n",
       "    </tr>\n",
       "    <tr>\n",
       "      <th>2</th>\n",
       "      <td>203</td>\n",
       "      <td>Livro Python</td>\n",
       "      <td>Livros</td>\n",
       "      <td>89.9</td>\n",
       "    </tr>\n",
       "    <tr>\n",
       "      <th>3</th>\n",
       "      <td>204</td>\n",
       "      <td>Cadeira Gamer</td>\n",
       "      <td>Móveis</td>\n",
       "      <td>799.0</td>\n",
       "    </tr>\n",
       "    <tr>\n",
       "      <th>4</th>\n",
       "      <td>205</td>\n",
       "      <td>Smartphone</td>\n",
       "      <td>Eletrônicos</td>\n",
       "      <td>2999.0</td>\n",
       "    </tr>\n",
       "  </tbody>\n",
       "</table>\n",
       "</div>"
      ]
     },
     "execution_count": 16,
     "metadata": {},
     "output_type": "execute_result"
    }
   ],
   "execution_count": 16
  },
  {
   "metadata": {
    "ExecuteTime": {
     "end_time": "2025-10-21T17:06:55.091788Z",
     "start_time": "2025-10-21T17:06:55.083193Z"
    }
   },
   "cell_type": "code",
   "outputs": [
    {
     "data": {
      "text/plain": [
       "   id_pedido  id_cliente data_pedido  valor_total\n",
       "0        101           1  2025-09-01        320.5\n",
       "1        102           2  2025-09-03        780.0\n",
       "2        103           3  2025-09-05        150.0\n",
       "3        104           4  2025-09-07        540.9\n",
       "4        105           5  2025-09-10        220.0"
      ],
      "text/html": [
       "<div>\n",
       "<style scoped>\n",
       "    .dataframe tbody tr th:only-of-type {\n",
       "        vertical-align: middle;\n",
       "    }\n",
       "\n",
       "    .dataframe tbody tr th {\n",
       "        vertical-align: top;\n",
       "    }\n",
       "\n",
       "    .dataframe thead th {\n",
       "        text-align: right;\n",
       "    }\n",
       "</style>\n",
       "<table border=\"1\" class=\"dataframe\">\n",
       "  <thead>\n",
       "    <tr style=\"text-align: right;\">\n",
       "      <th></th>\n",
       "      <th>id_pedido</th>\n",
       "      <th>id_cliente</th>\n",
       "      <th>data_pedido</th>\n",
       "      <th>valor_total</th>\n",
       "    </tr>\n",
       "  </thead>\n",
       "  <tbody>\n",
       "    <tr>\n",
       "      <th>0</th>\n",
       "      <td>101</td>\n",
       "      <td>1</td>\n",
       "      <td>2025-09-01</td>\n",
       "      <td>320.5</td>\n",
       "    </tr>\n",
       "    <tr>\n",
       "      <th>1</th>\n",
       "      <td>102</td>\n",
       "      <td>2</td>\n",
       "      <td>2025-09-03</td>\n",
       "      <td>780.0</td>\n",
       "    </tr>\n",
       "    <tr>\n",
       "      <th>2</th>\n",
       "      <td>103</td>\n",
       "      <td>3</td>\n",
       "      <td>2025-09-05</td>\n",
       "      <td>150.0</td>\n",
       "    </tr>\n",
       "    <tr>\n",
       "      <th>3</th>\n",
       "      <td>104</td>\n",
       "      <td>4</td>\n",
       "      <td>2025-09-07</td>\n",
       "      <td>540.9</td>\n",
       "    </tr>\n",
       "    <tr>\n",
       "      <th>4</th>\n",
       "      <td>105</td>\n",
       "      <td>5</td>\n",
       "      <td>2025-09-10</td>\n",
       "      <td>220.0</td>\n",
       "    </tr>\n",
       "  </tbody>\n",
       "</table>\n",
       "</div>"
      ]
     },
     "execution_count": 9,
     "metadata": {},
     "output_type": "execute_result"
    }
   ],
   "source": [
    "pedidos = pd.read_csv(\"files/pedidos.csv\")\n",
    "pedidos.head()"
   ],
   "id": "cc7a34fd13b2b7e4",
   "execution_count": null
  },
  {
   "metadata": {
    "ExecuteTime": {
     "end_time": "2025-10-21T17:06:55.511950Z",
     "start_time": "2025-10-21T17:06:55.502452Z"
    }
   },
   "cell_type": "code",
   "outputs": [
    {
     "data": {
      "text/plain": [
       "   id_produto            nome    categoria   preco\n",
       "0         201  Fone Bluetooth  Eletrônicos   199.9\n",
       "1         202  Notebook Gamer  Eletrônicos  4999.0\n",
       "2         203    Livro Python       Livros    89.9\n",
       "3         204   Cadeira Gamer       Móveis   799.0\n",
       "4         205      Smartphone  Eletrônicos  2999.0"
      ],
      "text/html": [
       "<div>\n",
       "<style scoped>\n",
       "    .dataframe tbody tr th:only-of-type {\n",
       "        vertical-align: middle;\n",
       "    }\n",
       "\n",
       "    .dataframe tbody tr th {\n",
       "        vertical-align: top;\n",
       "    }\n",
       "\n",
       "    .dataframe thead th {\n",
       "        text-align: right;\n",
       "    }\n",
       "</style>\n",
       "<table border=\"1\" class=\"dataframe\">\n",
       "  <thead>\n",
       "    <tr style=\"text-align: right;\">\n",
       "      <th></th>\n",
       "      <th>id_produto</th>\n",
       "      <th>nome</th>\n",
       "      <th>categoria</th>\n",
       "      <th>preco</th>\n",
       "    </tr>\n",
       "  </thead>\n",
       "  <tbody>\n",
       "    <tr>\n",
       "      <th>0</th>\n",
       "      <td>201</td>\n",
       "      <td>Fone Bluetooth</td>\n",
       "      <td>Eletrônicos</td>\n",
       "      <td>199.9</td>\n",
       "    </tr>\n",
       "    <tr>\n",
       "      <th>1</th>\n",
       "      <td>202</td>\n",
       "      <td>Notebook Gamer</td>\n",
       "      <td>Eletrônicos</td>\n",
       "      <td>4999.0</td>\n",
       "    </tr>\n",
       "    <tr>\n",
       "      <th>2</th>\n",
       "      <td>203</td>\n",
       "      <td>Livro Python</td>\n",
       "      <td>Livros</td>\n",
       "      <td>89.9</td>\n",
       "    </tr>\n",
       "    <tr>\n",
       "      <th>3</th>\n",
       "      <td>204</td>\n",
       "      <td>Cadeira Gamer</td>\n",
       "      <td>Móveis</td>\n",
       "      <td>799.0</td>\n",
       "    </tr>\n",
       "    <tr>\n",
       "      <th>4</th>\n",
       "      <td>205</td>\n",
       "      <td>Smartphone</td>\n",
       "      <td>Eletrônicos</td>\n",
       "      <td>2999.0</td>\n",
       "    </tr>\n",
       "  </tbody>\n",
       "</table>\n",
       "</div>"
      ]
     },
     "execution_count": 10,
     "metadata": {},
     "output_type": "execute_result"
    }
   ],
   "source": [
    "produtos = pd.read_csv(\"files/produtos.csv\")\n",
    "produtos.head()"
   ],
   "id": "884614bed04da88c",
   "execution_count": null
  },
  {
   "metadata": {
    "ExecuteTime": {
     "end_time": "2025-10-21T17:10:47.737332Z",
     "start_time": "2025-10-21T17:10:47.723328Z"
    }
   },
   "cell_type": "code",
   "source": [
    "print(\"\\nClientes info:\")\n",
    "clientes.info()\n",
    "print(f\"Null: \\n{clientes.isnull().sum()}\")\n",
    "\n",
    "print(\"\\nPedidos info:\")\n",
    "pedidos.info()\n",
    "print(f\"Null: \\n{pedidos.isnull().sum()}\")\n",
    "\n",
    "print(\"\\nProdutos info:\")\n",
    "produtos.info()\n",
    "print(f\"Null: \\n{produtos.isnull().sum()}\")"
   ],
   "id": "be92acdbadc181b5",
   "outputs": [
    {
     "name": "stdout",
     "output_type": "stream",
     "text": [
      "\n",
      "Clientes info:\n",
      "<class 'pandas.core.frame.DataFrame'>\n",
      "RangeIndex: 10 entries, 0 to 9\n",
      "Data columns (total 4 columns):\n",
      " #   Column      Non-Null Count  Dtype \n",
      "---  ------      --------------  ----- \n",
      " 0   id_cliente  10 non-null     int64 \n",
      " 1   nome        10 non-null     object\n",
      " 2   idade       10 non-null     int64 \n",
      " 3   cidade      10 non-null     object\n",
      "dtypes: int64(2), object(2)\n",
      "memory usage: 452.0+ bytes\n",
      "Null: \n",
      "id_cliente    0\n",
      "nome          0\n",
      "idade         0\n",
      "cidade        0\n",
      "dtype: int64\n",
      "\n",
      "Pedidos info:\n",
      "<class 'pandas.core.frame.DataFrame'>\n",
      "RangeIndex: 10 entries, 0 to 9\n",
      "Data columns (total 4 columns):\n",
      " #   Column       Non-Null Count  Dtype  \n",
      "---  ------       --------------  -----  \n",
      " 0   id_pedido    10 non-null     int64  \n",
      " 1   id_cliente   10 non-null     int64  \n",
      " 2   data_pedido  10 non-null     object \n",
      " 3   valor_total  10 non-null     float64\n",
      "dtypes: float64(1), int64(2), object(1)\n",
      "memory usage: 452.0+ bytes\n",
      "Null: \n",
      "id_pedido      0\n",
      "id_cliente     0\n",
      "data_pedido    0\n",
      "valor_total    0\n",
      "dtype: int64\n",
      "\n",
      "Produtos info:\n",
      "<class 'pandas.core.frame.DataFrame'>\n",
      "RangeIndex: 10 entries, 0 to 9\n",
      "Data columns (total 4 columns):\n",
      " #   Column      Non-Null Count  Dtype  \n",
      "---  ------      --------------  -----  \n",
      " 0   id_produto  10 non-null     int64  \n",
      " 1   nome        10 non-null     object \n",
      " 2   categoria   10 non-null     object \n",
      " 3   preco       10 non-null     float64\n",
      "dtypes: float64(1), int64(1), object(2)\n",
      "memory usage: 452.0+ bytes\n",
      "Null: \n",
      "id_produto    0\n",
      "nome          0\n",
      "categoria     0\n",
      "preco         0\n",
      "dtype: int64\n"
     ]
    }
   ],
   "execution_count": 22
  },
  {
   "metadata": {
    "ExecuteTime": {
     "end_time": "2025-10-21T17:12:19.069047Z",
     "start_time": "2025-10-21T17:12:19.043297Z"
    }
   },
   "cell_type": "code",
   "source": [
    "print(\"Descrição clientes:\\n\", clientes.describe())\n",
    "print(\"Descrição pedidos:\\n\", pedidos.describe())\n",
    "print(\"Descrição produtos:\\n\", produtos.describe())\n"
   ],
   "id": "90f8e09dd8dbd2f5",
   "outputs": [
    {
     "name": "stdout",
     "output_type": "stream",
     "text": [
      "Descrição clientes:\n",
      "        id_cliente      idade\n",
      "count    10.00000  10.000000\n",
      "mean      5.50000  33.300000\n",
      "std       3.02765   6.650814\n",
      "min       1.00000  25.000000\n",
      "25%       3.25000  28.250000\n",
      "50%       5.50000  32.000000\n",
      "75%       7.75000  37.250000\n",
      "max      10.00000  45.000000\n",
      "Descrição pedidos:\n",
      "        id_pedido  id_cliente  valor_total\n",
      "count   10.00000    10.00000     10.00000\n",
      "mean   105.50000     5.50000    508.14000\n",
      "std      3.02765     3.02765    364.60488\n",
      "min    101.00000     1.00000    150.00000\n",
      "25%    103.25000     3.25000    242.50000\n",
      "50%    105.50000     5.50000    375.25000\n",
      "75%    107.75000     7.75000    720.22500\n",
      "max    110.00000    10.00000   1200.00000\n",
      "Descrição produtos:\n",
      "        id_produto        preco\n",
      "count    10.00000    10.000000\n",
      "mean    205.50000   974.630000\n",
      "std       3.02765  1677.374824\n",
      "min     201.00000    39.900000\n",
      "25%     203.25000    82.400000\n",
      "50%     205.50000   164.900000\n",
      "75%     207.75000   686.725000\n",
      "max     210.00000  4999.000000\n"
     ]
    }
   ],
   "execution_count": 23
  }
 ],
 "metadata": {
  "kernelspec": {
   "display_name": "Python 3",
   "language": "python",
   "name": "python3"
  },
  "language_info": {
   "codemirror_mode": {
    "name": "ipython",
    "version": 2
   },
   "file_extension": ".py",
   "mimetype": "text/x-python",
   "name": "python",
   "nbconvert_exporter": "python",
   "pygments_lexer": "ipython2",
   "version": "2.7.6"
  }
 },
 "nbformat": 4,
 "nbformat_minor": 5
}
