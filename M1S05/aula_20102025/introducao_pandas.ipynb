{
 "cells": [
  {
   "cell_type": "code",
   "id": "initial_id",
   "metadata": {
    "collapsed": true,
    "ExecuteTime": {
     "end_time": "2025-10-20T23:16:51.792248Z",
     "start_time": "2025-10-20T23:16:51.787727Z"
    }
   },
   "source": [
    "import pandas as pd\n",
    "import numpy as np"
   ],
   "outputs": [],
   "execution_count": 5
  },
  {
   "metadata": {
    "ExecuteTime": {
     "end_time": "2025-10-20T23:30:27.749124Z",
     "start_time": "2025-10-20T23:30:27.735367Z"
    }
   },
   "cell_type": "code",
   "source": [
    "s = pd.Series(np.random.randn(5), index=list(\"abcde\"))\n",
    "\n",
    "s\n",
    "# s.index"
   ],
   "id": "4a57f47ddcbfc692",
   "outputs": [
    {
     "data": {
      "text/plain": [
       "a    2.273407\n",
       "b   -1.343202\n",
       "c   -1.120836\n",
       "d   -0.094675\n",
       "e   -0.496415\n",
       "dtype: float64"
      ]
     },
     "execution_count": 38,
     "metadata": {},
     "output_type": "execute_result"
    }
   ],
   "execution_count": 38
  },
  {
   "metadata": {
    "ExecuteTime": {
     "end_time": "2025-10-20T23:30:27.834447Z",
     "start_time": "2025-10-20T23:30:27.828352Z"
    }
   },
   "cell_type": "code",
   "source": [
    "# Construção da Series sem especificação dos index\n",
    "\n",
    "pd.Series(np.random.randn(5), name=\"Valores\")\n"
   ],
   "id": "aac8bfca20b190e6",
   "outputs": [
    {
     "data": {
      "text/plain": [
       "0   -1.292121\n",
       "1   -0.541474\n",
       "2   -1.620621\n",
       "3    0.089536\n",
       "4   -1.913249\n",
       "Name: Valores, dtype: float64"
      ]
     },
     "execution_count": 39,
     "metadata": {},
     "output_type": "execute_result"
    }
   ],
   "execution_count": 39
  },
  {
   "metadata": {
    "ExecuteTime": {
     "end_time": "2025-10-20T23:30:28.077465Z",
     "start_time": "2025-10-20T23:30:28.068214Z"
    }
   },
   "cell_type": "code",
   "source": [
    "x_dict = {\n",
    "    \"a\": [2.0, 3.0, 4.0, 1.0],\n",
    "    \"b\": (3.0, 1.0, \"Teste\", 1),\n",
    "    \"c\": {\"a\": 1, \"b\": 2, \"c\": 3},\n",
    "    \"d\": 5.0,\n",
    "    \"e\": 6.0\n",
    "}\n",
    "\n",
    "pd.Series(x_dict, name=\"Valores\", index=list(\"abcde\"))"
   ],
   "id": "e07c04b47c7ce80c",
   "outputs": [
    {
     "data": {
      "text/plain": [
       "a        [2.0, 3.0, 4.0, 1.0]\n",
       "b        (3.0, 1.0, Teste, 1)\n",
       "c    {'a': 1, 'b': 2, 'c': 3}\n",
       "d                         5.0\n",
       "e                         6.0\n",
       "Name: Valores, dtype: object"
      ]
     },
     "execution_count": 40,
     "metadata": {},
     "output_type": "execute_result"
    }
   ],
   "execution_count": 40
  },
  {
   "metadata": {
    "ExecuteTime": {
     "end_time": "2025-10-20T23:30:28.220109Z",
     "start_time": "2025-10-20T23:30:28.206257Z"
    }
   },
   "cell_type": "code",
   "source": "pd.Series(\"teste\", index = [\"a\", \"b\", \"c\", \"d\", \"e\"])",
   "id": "769f2fc5160c279b",
   "outputs": [
    {
     "data": {
      "text/plain": [
       "a    teste\n",
       "b    teste\n",
       "c    teste\n",
       "d    teste\n",
       "e    teste\n",
       "dtype: object"
      ]
     },
     "execution_count": 41,
     "metadata": {},
     "output_type": "execute_result"
    }
   ],
   "execution_count": 41
  },
  {
   "metadata": {
    "ExecuteTime": {
     "end_time": "2025-10-20T23:32:29.037107Z",
     "start_time": "2025-10-20T23:32:29.020691Z"
    }
   },
   "cell_type": "code",
   "source": [
    "# Printando os dois primeiros elementos (0:2 com o 2 não incluso)\n",
    "print(s.iloc[:2])\n",
    "\n",
    "# Printando os três primeiros elementos (\"a\":\"b\" com o \"b\" incluso)\n",
    "print(s.loc[\"a\":\"c\"])"
   ],
   "id": "759ca13b805704f0",
   "outputs": [
    {
     "name": "stdout",
     "output_type": "stream",
     "text": [
      "a    2.273407\n",
      "b   -1.343202\n",
      "dtype: float64\n",
      "a    2.273407\n",
      "b   -1.343202\n",
      "c   -1.120836\n",
      "dtype: float64\n"
     ]
    }
   ],
   "execution_count": 50
  },
  {
   "metadata": {
    "ExecuteTime": {
     "end_time": "2025-10-20T23:34:59.986904Z",
     "start_time": "2025-10-20T23:34:59.971900Z"
    }
   },
   "cell_type": "code",
   "source": "s.dtype",
   "id": "caed7890d923b147",
   "outputs": [
    {
     "data": {
      "text/plain": [
       "dtype('float64')"
      ]
     },
     "execution_count": 52,
     "metadata": {},
     "output_type": "execute_result"
    }
   ],
   "execution_count": 52
  },
  {
   "metadata": {
    "ExecuteTime": {
     "end_time": "2025-10-20T23:37:08.782712Z",
     "start_time": "2025-10-20T23:37:08.775333Z"
    }
   },
   "cell_type": "code",
   "source": [
    "s_new = pd.Series(np.random.randn(10), name=\"taxas\")\n",
    "\n",
    "s_new.rename(\"Novas Taxas\")"
   ],
   "id": "5c215f045cb836f5",
   "outputs": [
    {
     "data": {
      "text/plain": [
       "0    0.362936\n",
       "1    0.617015\n",
       "2    1.452905\n",
       "3    2.496591\n",
       "4    0.654468\n",
       "5    0.263829\n",
       "6    0.760207\n",
       "7   -0.380423\n",
       "8   -0.962346\n",
       "9   -0.181892\n",
       "Name: Novas Taxas, dtype: float64"
      ]
     },
     "execution_count": 59,
     "metadata": {},
     "output_type": "execute_result"
    }
   ],
   "execution_count": 59
  },
  {
   "metadata": {
    "ExecuteTime": {
     "end_time": "2025-10-21T00:17:25.810842Z",
     "start_time": "2025-10-21T00:17:25.798901Z"
    }
   },
   "cell_type": "code",
   "source": [
    "# Criando um DataFrame\n",
    "\n",
    "data = {\n",
    "    'Produto': ['Mouse', 'Teclado', 'Monitor', 'Gabinete', 'Memória RAM'],\n",
    "    'Preço': [80, 120, 600, 450, 300],\n",
    "    'Estoque': [10, 20, 15, 5, 25]\n",
    "}\n",
    "\n",
    "list = [\"a\", \"b\", \"c\", \"d\", \"e\"]\n",
    "#df = pd.DataFrame(data, index = list)\n",
    "\n",
    "df = pd.DataFrame(data, index = [\"a\", 6, \"f\", \"18\", 3.0])\n",
    "\n",
    "df\n",
    "#df.index\n",
    "#df.columns"
   ],
   "id": "e2b377b918eab706",
   "outputs": [
    {
     "data": {
      "text/plain": [
       "         Produto  Preço  Estoque\n",
       "a          Mouse     80       10\n",
       "6        Teclado    120       20\n",
       "f        Monitor    600       15\n",
       "18      Gabinete    450        5\n",
       "3.0  Memória RAM    300       25"
      ],
      "text/html": [
       "<div>\n",
       "<style scoped>\n",
       "    .dataframe tbody tr th:only-of-type {\n",
       "        vertical-align: middle;\n",
       "    }\n",
       "\n",
       "    .dataframe tbody tr th {\n",
       "        vertical-align: top;\n",
       "    }\n",
       "\n",
       "    .dataframe thead th {\n",
       "        text-align: right;\n",
       "    }\n",
       "</style>\n",
       "<table border=\"1\" class=\"dataframe\">\n",
       "  <thead>\n",
       "    <tr style=\"text-align: right;\">\n",
       "      <th></th>\n",
       "      <th>Produto</th>\n",
       "      <th>Preço</th>\n",
       "      <th>Estoque</th>\n",
       "    </tr>\n",
       "  </thead>\n",
       "  <tbody>\n",
       "    <tr>\n",
       "      <th>a</th>\n",
       "      <td>Mouse</td>\n",
       "      <td>80</td>\n",
       "      <td>10</td>\n",
       "    </tr>\n",
       "    <tr>\n",
       "      <th>6</th>\n",
       "      <td>Teclado</td>\n",
       "      <td>120</td>\n",
       "      <td>20</td>\n",
       "    </tr>\n",
       "    <tr>\n",
       "      <th>f</th>\n",
       "      <td>Monitor</td>\n",
       "      <td>600</td>\n",
       "      <td>15</td>\n",
       "    </tr>\n",
       "    <tr>\n",
       "      <th>18</th>\n",
       "      <td>Gabinete</td>\n",
       "      <td>450</td>\n",
       "      <td>5</td>\n",
       "    </tr>\n",
       "    <tr>\n",
       "      <th>3.0</th>\n",
       "      <td>Memória RAM</td>\n",
       "      <td>300</td>\n",
       "      <td>25</td>\n",
       "    </tr>\n",
       "  </tbody>\n",
       "</table>\n",
       "</div>"
      ]
     },
     "execution_count": 72,
     "metadata": {},
     "output_type": "execute_result"
    }
   ],
   "execution_count": 72
  },
  {
   "metadata": {
    "ExecuteTime": {
     "end_time": "2025-10-21T00:20:01.550069Z",
     "start_time": "2025-10-21T00:20:01.521582Z"
    }
   },
   "cell_type": "code",
   "source": [
    "df.shape\n",
    "df.index\n",
    "df.columns\n",
    "df.info()\n",
    "df.describe()\n",
    "df.head()\n"
   ],
   "id": "8a075f0c2225a7b5",
   "outputs": [
    {
     "name": "stdout",
     "output_type": "stream",
     "text": [
      "<class 'pandas.core.frame.DataFrame'>\n",
      "Index: 5 entries, a to 3.0\n",
      "Data columns (total 3 columns):\n",
      " #   Column   Non-Null Count  Dtype \n",
      "---  ------   --------------  ----- \n",
      " 0   Produto  5 non-null      object\n",
      " 1   Preço    5 non-null      int64 \n",
      " 2   Estoque  5 non-null      int64 \n",
      "dtypes: int64(2), object(1)\n",
      "memory usage: 160.0+ bytes\n"
     ]
    },
    {
     "data": {
      "text/plain": [
       "         Produto  Preço  Estoque\n",
       "a          Mouse     80       10\n",
       "6        Teclado    120       20\n",
       "f        Monitor    600       15\n",
       "18      Gabinete    450        5\n",
       "3.0  Memória RAM    300       25"
      ],
      "text/html": [
       "<div>\n",
       "<style scoped>\n",
       "    .dataframe tbody tr th:only-of-type {\n",
       "        vertical-align: middle;\n",
       "    }\n",
       "\n",
       "    .dataframe tbody tr th {\n",
       "        vertical-align: top;\n",
       "    }\n",
       "\n",
       "    .dataframe thead th {\n",
       "        text-align: right;\n",
       "    }\n",
       "</style>\n",
       "<table border=\"1\" class=\"dataframe\">\n",
       "  <thead>\n",
       "    <tr style=\"text-align: right;\">\n",
       "      <th></th>\n",
       "      <th>Produto</th>\n",
       "      <th>Preço</th>\n",
       "      <th>Estoque</th>\n",
       "    </tr>\n",
       "  </thead>\n",
       "  <tbody>\n",
       "    <tr>\n",
       "      <th>a</th>\n",
       "      <td>Mouse</td>\n",
       "      <td>80</td>\n",
       "      <td>10</td>\n",
       "    </tr>\n",
       "    <tr>\n",
       "      <th>6</th>\n",
       "      <td>Teclado</td>\n",
       "      <td>120</td>\n",
       "      <td>20</td>\n",
       "    </tr>\n",
       "    <tr>\n",
       "      <th>f</th>\n",
       "      <td>Monitor</td>\n",
       "      <td>600</td>\n",
       "      <td>15</td>\n",
       "    </tr>\n",
       "    <tr>\n",
       "      <th>18</th>\n",
       "      <td>Gabinete</td>\n",
       "      <td>450</td>\n",
       "      <td>5</td>\n",
       "    </tr>\n",
       "    <tr>\n",
       "      <th>3.0</th>\n",
       "      <td>Memória RAM</td>\n",
       "      <td>300</td>\n",
       "      <td>25</td>\n",
       "    </tr>\n",
       "  </tbody>\n",
       "</table>\n",
       "</div>"
      ]
     },
     "execution_count": 79,
     "metadata": {},
     "output_type": "execute_result"
    }
   ],
   "execution_count": 79
  },
  {
   "metadata": {
    "ExecuteTime": {
     "end_time": "2025-10-21T00:24:17.316804Z",
     "start_time": "2025-10-21T00:24:17.304521Z"
    }
   },
   "cell_type": "code",
   "source": [
    "# É possível usar funções como mean, max, min, std, sum, count, median e var na coluna especificando ela\n",
    "df['Preço'].mean()"
   ],
   "id": "242012e32ecb32ee",
   "outputs": [
    {
     "data": {
      "text/plain": [
       "np.float64(48200.0)"
      ]
     },
     "execution_count": 90,
     "metadata": {},
     "output_type": "execute_result"
    }
   ],
   "execution_count": 90
  },
  {
   "metadata": {},
   "cell_type": "markdown",
   "source": "### Leitura e escrita de arquivos\n",
   "id": "c8427a3cbb23b0d0"
  },
  {
   "metadata": {
    "ExecuteTime": {
     "end_time": "2025-10-21T00:31:43.535592Z",
     "start_time": "2025-10-21T00:31:43.523262Z"
    }
   },
   "cell_type": "code",
   "source": [
    "# Leitura de arquivos csv\n",
    "vendas = pd.read_csv(\"vendas.csv\")\n",
    "vendas.head()"
   ],
   "id": "d75b04f49268441e",
   "outputs": [
    {
     "data": {
      "text/plain": [
       "   id_venda  id_produto  quantidade  data_venda         filial\n",
       "0       101           1           3  2025-10-01  Florianópolis\n",
       "1       102           3           2  2025-10-02      Joinville\n",
       "2       103          10           1  2025-10-02       Blumenau\n",
       "3       104           2           5  2025-10-03        Chapecó\n",
       "4       105           5           2  2025-10-05      Joinville"
      ],
      "text/html": [
       "<div>\n",
       "<style scoped>\n",
       "    .dataframe tbody tr th:only-of-type {\n",
       "        vertical-align: middle;\n",
       "    }\n",
       "\n",
       "    .dataframe tbody tr th {\n",
       "        vertical-align: top;\n",
       "    }\n",
       "\n",
       "    .dataframe thead th {\n",
       "        text-align: right;\n",
       "    }\n",
       "</style>\n",
       "<table border=\"1\" class=\"dataframe\">\n",
       "  <thead>\n",
       "    <tr style=\"text-align: right;\">\n",
       "      <th></th>\n",
       "      <th>id_venda</th>\n",
       "      <th>id_produto</th>\n",
       "      <th>quantidade</th>\n",
       "      <th>data_venda</th>\n",
       "      <th>filial</th>\n",
       "    </tr>\n",
       "  </thead>\n",
       "  <tbody>\n",
       "    <tr>\n",
       "      <th>0</th>\n",
       "      <td>101</td>\n",
       "      <td>1</td>\n",
       "      <td>3</td>\n",
       "      <td>2025-10-01</td>\n",
       "      <td>Florianópolis</td>\n",
       "    </tr>\n",
       "    <tr>\n",
       "      <th>1</th>\n",
       "      <td>102</td>\n",
       "      <td>3</td>\n",
       "      <td>2</td>\n",
       "      <td>2025-10-02</td>\n",
       "      <td>Joinville</td>\n",
       "    </tr>\n",
       "    <tr>\n",
       "      <th>2</th>\n",
       "      <td>103</td>\n",
       "      <td>10</td>\n",
       "      <td>1</td>\n",
       "      <td>2025-10-02</td>\n",
       "      <td>Blumenau</td>\n",
       "    </tr>\n",
       "    <tr>\n",
       "      <th>3</th>\n",
       "      <td>104</td>\n",
       "      <td>2</td>\n",
       "      <td>5</td>\n",
       "      <td>2025-10-03</td>\n",
       "      <td>Chapecó</td>\n",
       "    </tr>\n",
       "    <tr>\n",
       "      <th>4</th>\n",
       "      <td>105</td>\n",
       "      <td>5</td>\n",
       "      <td>2</td>\n",
       "      <td>2025-10-05</td>\n",
       "      <td>Joinville</td>\n",
       "    </tr>\n",
       "  </tbody>\n",
       "</table>\n",
       "</div>"
      ]
     },
     "execution_count": 101,
     "metadata": {},
     "output_type": "execute_result"
    }
   ],
   "execution_count": 101
  },
  {
   "metadata": {
    "ExecuteTime": {
     "end_time": "2025-10-21T00:31:18.178814Z",
     "start_time": "2025-10-21T00:31:18.148207Z"
    }
   },
   "cell_type": "code",
   "outputs": [
    {
     "data": {
      "text/plain": [
       "  empresa                    categoria  \\\n",
       "0  Clamed  Higiene e Cuidados Pessoais   \n",
       "1  Clamed  Higiene e Cuidados Pessoais   \n",
       "2  Clamed  Higiene e Cuidados Pessoais   \n",
       "3  Clamed  Higiene e Cuidados Pessoais   \n",
       "4  Clamed  Higiene e Cuidados Pessoais   \n",
       "\n",
       "                                            produtos  \n",
       "0  {'id': 1, 'nome': 'Shampoo Nutritivo', 'preco'...  \n",
       "1  {'id': 2, 'nome': 'Sabonete Vegetal', 'preco':...  \n",
       "2  {'id': 3, 'nome': 'Creme Dental Fresh', 'preco...  \n",
       "3  {'id': 4, 'nome': 'Desodorante Roll-On', 'prec...  \n",
       "4  {'id': 5, 'nome': 'Condicionador Revitalizante...  "
      ],
      "text/html": [
       "<div>\n",
       "<style scoped>\n",
       "    .dataframe tbody tr th:only-of-type {\n",
       "        vertical-align: middle;\n",
       "    }\n",
       "\n",
       "    .dataframe tbody tr th {\n",
       "        vertical-align: top;\n",
       "    }\n",
       "\n",
       "    .dataframe thead th {\n",
       "        text-align: right;\n",
       "    }\n",
       "</style>\n",
       "<table border=\"1\" class=\"dataframe\">\n",
       "  <thead>\n",
       "    <tr style=\"text-align: right;\">\n",
       "      <th></th>\n",
       "      <th>empresa</th>\n",
       "      <th>categoria</th>\n",
       "      <th>produtos</th>\n",
       "    </tr>\n",
       "  </thead>\n",
       "  <tbody>\n",
       "    <tr>\n",
       "      <th>0</th>\n",
       "      <td>Clamed</td>\n",
       "      <td>Higiene e Cuidados Pessoais</td>\n",
       "      <td>{'id': 1, 'nome': 'Shampoo Nutritivo', 'preco'...</td>\n",
       "    </tr>\n",
       "    <tr>\n",
       "      <th>1</th>\n",
       "      <td>Clamed</td>\n",
       "      <td>Higiene e Cuidados Pessoais</td>\n",
       "      <td>{'id': 2, 'nome': 'Sabonete Vegetal', 'preco':...</td>\n",
       "    </tr>\n",
       "    <tr>\n",
       "      <th>2</th>\n",
       "      <td>Clamed</td>\n",
       "      <td>Higiene e Cuidados Pessoais</td>\n",
       "      <td>{'id': 3, 'nome': 'Creme Dental Fresh', 'preco...</td>\n",
       "    </tr>\n",
       "    <tr>\n",
       "      <th>3</th>\n",
       "      <td>Clamed</td>\n",
       "      <td>Higiene e Cuidados Pessoais</td>\n",
       "      <td>{'id': 4, 'nome': 'Desodorante Roll-On', 'prec...</td>\n",
       "    </tr>\n",
       "    <tr>\n",
       "      <th>4</th>\n",
       "      <td>Clamed</td>\n",
       "      <td>Higiene e Cuidados Pessoais</td>\n",
       "      <td>{'id': 5, 'nome': 'Condicionador Revitalizante...</td>\n",
       "    </tr>\n",
       "  </tbody>\n",
       "</table>\n",
       "</div>"
      ]
     },
     "execution_count": 99,
     "metadata": {},
     "output_type": "execute_result"
    }
   ],
   "execution_count": 99,
   "source": [
    "# Leitura de arquivo json\n",
    "produtos = pd.read_json(\"produtos.json\")\n",
    "produtos.head()"
   ],
   "id": "a769933f8261f74c"
  },
  {
   "metadata": {},
   "cell_type": "code",
   "outputs": [],
   "execution_count": null,
   "source": "",
   "id": "80411780550c9b4b"
  }
 ],
 "metadata": {
  "kernelspec": {
   "display_name": "Python 3",
   "language": "python",
   "name": "python3"
  },
  "language_info": {
   "codemirror_mode": {
    "name": "ipython",
    "version": 2
   },
   "file_extension": ".py",
   "mimetype": "text/x-python",
   "name": "python",
   "nbconvert_exporter": "python",
   "pygments_lexer": "ipython2",
   "version": "2.7.6"
  }
 },
 "nbformat": 4,
 "nbformat_minor": 5
}
