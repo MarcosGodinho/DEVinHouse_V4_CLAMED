{
 "cells": [
  {
   "metadata": {
    "ExecuteTime": {
     "end_time": "2025-10-24T22:15:49.176833Z",
     "start_time": "2025-10-24T22:15:48.109696Z"
    }
   },
   "cell_type": "code",
   "source": [
    "import pandas as pd\n",
    "\n",
    "df_produtos = pd.read_csv('datasets/produtos.csv')\n",
    "estoque_20 = df_produtos[df_produtos['estoque'] < 20]\n",
    "\n",
    "estoque_20.to_csv('datasets/estoque_baixo.csv', index=False)"
   ],
   "id": "431d8a7d52bfad4c",
   "outputs": [],
   "execution_count": 1
  },
  {
   "metadata": {
    "ExecuteTime": {
     "end_time": "2025-10-24T22:16:42.184998Z",
     "start_time": "2025-10-24T22:16:42.169554Z"
    }
   },
   "cell_type": "code",
   "source": [
    "import pandas as pd\n",
    "\n",
    "df_produtos = pd.read_csv('datasets/produtos.csv')\n",
    "df_produtos[df_produtos['estoque'] < 20].to_csv('datasets/estoque_baixo.csv', index=False)"
   ],
   "id": "cf5038f54a277339",
   "outputs": [],
   "execution_count": 2
  },
  {
   "metadata": {
    "ExecuteTime": {
     "end_time": "2025-10-24T22:16:42.943110Z",
     "start_time": "2025-10-24T22:16:42.927705Z"
    }
   },
   "cell_type": "code",
   "source": "pd.read_csv('datasets/produtos.csv').query('estoque < 20').to_csv('datasets/estoque_baixo.csv', index=False)",
   "id": "628b111cf7270ada",
   "outputs": [],
   "execution_count": 3
  }
 ],
 "metadata": {
  "kernelspec": {
   "display_name": "Python 3",
   "language": "python",
   "name": "python3"
  },
  "language_info": {
   "codemirror_mode": {
    "name": "ipython",
    "version": 2
   },
   "file_extension": ".py",
   "mimetype": "text/x-python",
   "name": "python",
   "nbconvert_exporter": "python",
   "pygments_lexer": "ipython2",
   "version": "2.7.6"
  }
 },
 "nbformat": 4,
 "nbformat_minor": 5
}
