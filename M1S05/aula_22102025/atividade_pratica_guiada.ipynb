{
 "cells": [
  {
   "cell_type": "code",
   "id": "initial_id",
   "metadata": {
    "collapsed": true,
    "ExecuteTime": {
     "end_time": "2025-10-22T22:22:55.385981Z",
     "start_time": "2025-10-22T22:22:55.382294Z"
    }
   },
   "source": [
    "import pandas as pd\n",
    "import numpy as np"
   ],
   "outputs": [],
   "execution_count": 1
  },
  {
   "metadata": {
    "ExecuteTime": {
     "end_time": "2025-10-22T22:44:33.154463Z",
     "start_time": "2025-10-22T22:44:33.128571Z"
    }
   },
   "cell_type": "code",
   "source": [
    "produtos = {\n",
    "    \"id\" : [100, 101, 102, 103, 104, 105, 106, 107, 108, 109, 110],\n",
    "    \"nome\" : [\"Mouse\", \"Teclado\", \"Monitor\", \"Gabinete\", \"Memória RAM\", \"HD\", \"SSD\", \"Mousepad\", \"Cadeira\", \"Globo\", \"Fone\"],\n",
    "    \"preco\" : [80, 120, 600, 450, 300, 200, 150, 100, 50, 25, 10]\n",
    "}\n",
    "\n",
    "df_produtos = pd.DataFrame(produtos)\n",
    "\n",
    "df_produtos.to_csv('produtos_dic.csv', index=False)\n",
    "df_produtos.describe()"
   ],
   "id": "6a56524aa4a28639",
   "outputs": [
    {
     "data": {
      "text/plain": [
       "               id       preco\n",
       "count   11.000000   11.000000\n",
       "mean   105.000000  189.545455\n",
       "std      3.316625  188.101762\n",
       "min    100.000000   10.000000\n",
       "25%    102.500000   65.000000\n",
       "50%    105.000000  120.000000\n",
       "75%    107.500000  250.000000\n",
       "max    110.000000  600.000000"
      ],
      "text/html": [
       "<div>\n",
       "<style scoped>\n",
       "    .dataframe tbody tr th:only-of-type {\n",
       "        vertical-align: middle;\n",
       "    }\n",
       "\n",
       "    .dataframe tbody tr th {\n",
       "        vertical-align: top;\n",
       "    }\n",
       "\n",
       "    .dataframe thead th {\n",
       "        text-align: right;\n",
       "    }\n",
       "</style>\n",
       "<table border=\"1\" class=\"dataframe\">\n",
       "  <thead>\n",
       "    <tr style=\"text-align: right;\">\n",
       "      <th></th>\n",
       "      <th>id</th>\n",
       "      <th>preco</th>\n",
       "    </tr>\n",
       "  </thead>\n",
       "  <tbody>\n",
       "    <tr>\n",
       "      <th>count</th>\n",
       "      <td>11.000000</td>\n",
       "      <td>11.000000</td>\n",
       "    </tr>\n",
       "    <tr>\n",
       "      <th>mean</th>\n",
       "      <td>105.000000</td>\n",
       "      <td>189.545455</td>\n",
       "    </tr>\n",
       "    <tr>\n",
       "      <th>std</th>\n",
       "      <td>3.316625</td>\n",
       "      <td>188.101762</td>\n",
       "    </tr>\n",
       "    <tr>\n",
       "      <th>min</th>\n",
       "      <td>100.000000</td>\n",
       "      <td>10.000000</td>\n",
       "    </tr>\n",
       "    <tr>\n",
       "      <th>25%</th>\n",
       "      <td>102.500000</td>\n",
       "      <td>65.000000</td>\n",
       "    </tr>\n",
       "    <tr>\n",
       "      <th>50%</th>\n",
       "      <td>105.000000</td>\n",
       "      <td>120.000000</td>\n",
       "    </tr>\n",
       "    <tr>\n",
       "      <th>75%</th>\n",
       "      <td>107.500000</td>\n",
       "      <td>250.000000</td>\n",
       "    </tr>\n",
       "    <tr>\n",
       "      <th>max</th>\n",
       "      <td>110.000000</td>\n",
       "      <td>600.000000</td>\n",
       "    </tr>\n",
       "  </tbody>\n",
       "</table>\n",
       "</div>"
      ]
     },
     "execution_count": 10,
     "metadata": {},
     "output_type": "execute_result"
    }
   ],
   "execution_count": 10
  },
  {
   "metadata": {
    "ExecuteTime": {
     "end_time": "2025-10-22T22:43:54.574359Z",
     "start_time": "2025-10-22T22:43:54.554638Z"
    }
   },
   "cell_type": "code",
   "source": [
    "df_clientes = pd.read_json('datasets//clientes_json.json')\n",
    "df_clientes.describe()"
   ],
   "id": "a3ecbd1e0b873bd",
   "outputs": [
    {
     "data": {
      "text/plain": [
       "           id\n",
       "count     3.0\n",
       "mean   1002.0\n",
       "std       1.0\n",
       "min    1001.0\n",
       "25%    1001.5\n",
       "50%    1002.0\n",
       "75%    1002.5\n",
       "max    1003.0"
      ],
      "text/html": [
       "<div>\n",
       "<style scoped>\n",
       "    .dataframe tbody tr th:only-of-type {\n",
       "        vertical-align: middle;\n",
       "    }\n",
       "\n",
       "    .dataframe tbody tr th {\n",
       "        vertical-align: top;\n",
       "    }\n",
       "\n",
       "    .dataframe thead th {\n",
       "        text-align: right;\n",
       "    }\n",
       "</style>\n",
       "<table border=\"1\" class=\"dataframe\">\n",
       "  <thead>\n",
       "    <tr style=\"text-align: right;\">\n",
       "      <th></th>\n",
       "      <th>id</th>\n",
       "    </tr>\n",
       "  </thead>\n",
       "  <tbody>\n",
       "    <tr>\n",
       "      <th>count</th>\n",
       "      <td>3.0</td>\n",
       "    </tr>\n",
       "    <tr>\n",
       "      <th>mean</th>\n",
       "      <td>1002.0</td>\n",
       "    </tr>\n",
       "    <tr>\n",
       "      <th>std</th>\n",
       "      <td>1.0</td>\n",
       "    </tr>\n",
       "    <tr>\n",
       "      <th>min</th>\n",
       "      <td>1001.0</td>\n",
       "    </tr>\n",
       "    <tr>\n",
       "      <th>25%</th>\n",
       "      <td>1001.5</td>\n",
       "    </tr>\n",
       "    <tr>\n",
       "      <th>50%</th>\n",
       "      <td>1002.0</td>\n",
       "    </tr>\n",
       "    <tr>\n",
       "      <th>75%</th>\n",
       "      <td>1002.5</td>\n",
       "    </tr>\n",
       "    <tr>\n",
       "      <th>max</th>\n",
       "      <td>1003.0</td>\n",
       "    </tr>\n",
       "  </tbody>\n",
       "</table>\n",
       "</div>"
      ]
     },
     "execution_count": 9,
     "metadata": {},
     "output_type": "execute_result"
    }
   ],
   "execution_count": 9
  },
  {
   "metadata": {
    "ExecuteTime": {
     "end_time": "2025-10-22T22:51:13.106492Z",
     "start_time": "2025-10-22T22:51:13.100319Z"
    }
   },
   "cell_type": "code",
   "source": "df_produtos.to_json('datasets//produtos_json.json', indent=4)",
   "id": "c9f4d79be7e1e0a5",
   "outputs": [],
   "execution_count": 19
  }
 ],
 "metadata": {
  "kernelspec": {
   "display_name": "Python 3",
   "language": "python",
   "name": "python3"
  },
  "language_info": {
   "codemirror_mode": {
    "name": "ipython",
    "version": 2
   },
   "file_extension": ".py",
   "mimetype": "text/x-python",
   "name": "python",
   "nbconvert_exporter": "python",
   "pygments_lexer": "ipython2",
   "version": "2.7.6"
  }
 },
 "nbformat": 4,
 "nbformat_minor": 5
}
