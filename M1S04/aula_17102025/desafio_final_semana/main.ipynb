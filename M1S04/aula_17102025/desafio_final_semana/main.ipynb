{
 "cells": [
  {
   "cell_type": "code",
   "execution_count": null,
   "id": "initial_id",
   "metadata": {
    "collapsed": true
   },
   "outputs": [],
   "source": [
    "from datetime import datetime\n",
    "from openpyxl import Workbook\n",
    "import re, json, csv\n"
   ]
  },
  {
   "metadata": {},
   "cell_type": "markdown",
   "source": "### LEITURA DOS ARQUIVOS",
   "id": "ec804f2363e5f248"
  },
  {
   "metadata": {},
   "cell_type": "code",
   "outputs": [],
   "execution_count": null,
   "source": [
    "def ler_json(caminho_json):\n",
    "    \"\"\" Lê o arquivo JSON e retorna o dicionário com os dados \"\"\"\n",
    "    with open(caminho_json, \"r\", encoding=\"utf-8\") as arq:\n",
    "        return json.load(arq)\n",
    "\n",
    "\n",
    "def ler_csv(caminho_csv):\n",
    "    \"\"\" Lê o arquivo CSV e retorna a lista de dicionários com os dados \"\"\"\n",
    "    with open(caminho_csv, \"r\", encoding=\"utf-8\") as arq:\n",
    "        vendas = []\n",
    "        leitor = csv.DictReader(arq)\n",
    "\n",
    "        for linha in leitor:\n",
    "            vendas.append(linha)\n",
    "\n",
    "        return vendas\n"
   ],
   "id": "65a9671c4ef35197"
  },
  {
   "metadata": {},
   "cell_type": "markdown",
   "source": "### LIMPEZA DOS ARQUIVOS",
   "id": "2b2df8578b7a0a61"
  },
  {
   "metadata": {
    "ExecuteTime": {
     "end_time": "2025-10-18T00:51:46.962306Z",
     "start_time": "2025-10-18T00:51:46.942906Z"
    }
   },
   "cell_type": "code",
   "source": [
    "def limpar_nome_filiais(nome):\n",
    "    \"\"\"\n",
    "    Remove caracteres especiais e corrige nomes de filiais\n",
    "    :param nome: nome das filiais\n",
    "    :return: nome da filial limpo\n",
    "    \"\"\"\n",
    "\n",
    "    nome = re.sub(r\"[^a-zA-Zá-úÁ-ÚçÇ]\", \"\", nome).strip()\n",
    "\n",
    "    correcoes = {\n",
    "        \"Joinvile\": \"Joinville\",\n",
    "        \"Florianopólis\": \"Florianópolis\",\n",
    "        \"Blumenauu\": \"Blumenau\",\n",
    "        \"Chapekó\": \"Chapecó\",\n",
    "        \"Crisiúma\": \"Criciúma\",\n",
    "    }\n",
    "\n",
    "    return correcoes.get(nome, nome)\n",
    "\n",
    "def limpar_vendas(vendas):\n",
    "    \"\"\"\n",
    "    Remover registros inválidos e limpar nomes das filiais\n",
    "    :param vendas: registro de vendas\n",
    "    :return: registro de vendas limpo\n",
    "    \"\"\"\n",
    "\n",
    "    vendas_limpas = []\n",
    "\n",
    "    for v in vendas:\n",
    "        if not v['id_produto'] or not v['quantidade']:\n",
    "            continue\n",
    "        else:\n",
    "            v['filial'] = limpar_nome_filiais(v['filial'])\n",
    "            vendas_limpas.append(v)\n",
    "\n",
    "    return vendas_limpas\n"
   ],
   "id": "5ddd737e581987bc",
   "outputs": [
    {
     "ename": "SyntaxError",
     "evalue": "expression expected after dictionary key and ':' (968362807.py, line 7)",
     "output_type": "error",
     "traceback": [
      "  \u001B[36mCell\u001B[39m\u001B[36m \u001B[39m\u001B[32mIn[1]\u001B[39m\u001B[32m, line 7\u001B[39m\n\u001B[31m    \u001B[39m\u001B[31m\"Florianopólis\":\u001B[39m\n                   ^\n\u001B[31mSyntaxError\u001B[39m\u001B[31m:\u001B[39m expression expected after dictionary key and ':'\n"
     ]
    }
   ],
   "execution_count": 1
  },
  {
   "metadata": {},
   "cell_type": "markdown",
   "source": "### Integração de dados",
   "id": "6aefa69ff0be2802"
  }
 ],
 "metadata": {
  "kernelspec": {
   "display_name": "Python 3",
   "language": "python",
   "name": "python3"
  },
  "language_info": {
   "codemirror_mode": {
    "name": "ipython",
    "version": 2
   },
   "file_extension": ".py",
   "mimetype": "text/x-python",
   "name": "python",
   "nbconvert_exporter": "python",
   "pygments_lexer": "ipython2",
   "version": "2.7.6"
  }
 },
 "nbformat": 4,
 "nbformat_minor": 5
}
