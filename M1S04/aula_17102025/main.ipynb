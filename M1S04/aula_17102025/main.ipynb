{
 "cells": [
  {
   "cell_type": "code",
   "id": "initial_id",
   "metadata": {
    "collapsed": true,
    "ExecuteTime": {
     "end_time": "2025-10-17T23:08:49.867597Z",
     "start_time": "2025-10-17T23:08:49.859317Z"
    }
   },
   "source": "import json, csv",
   "outputs": [],
   "execution_count": 1
  },
  {
   "metadata": {
    "ExecuteTime": {
     "end_time": "2025-10-17T23:08:49.915965Z",
     "start_time": "2025-10-17T23:08:49.911141Z"
    }
   },
   "cell_type": "code",
   "source": [
    "INPUT_JSON = \"produtos.json\"\n",
    "ARCHIVE_CSV = \"produtos.csv\""
   ],
   "id": "a77c6c08c157603d",
   "outputs": [],
   "execution_count": 2
  },
  {
   "metadata": {
    "ExecuteTime": {
     "end_time": "2025-10-17T23:08:49.940924Z",
     "start_time": "2025-10-17T23:08:49.934229Z"
    }
   },
   "cell_type": "code",
   "source": [
    "with open(INPUT_JSON, \"r\", encoding=\"utf-8\") as arq:\n",
    "    dados = json.load(arq)\n",
    "\n",
    "produtos = dados.get(\"produtos\", [])   #dados[\"produtos\"]"
   ],
   "id": "5d8c0f870190b95e",
   "outputs": [],
   "execution_count": 3
  },
  {
   "metadata": {
    "ExecuteTime": {
     "end_time": "2025-10-17T23:21:28.771991Z",
     "start_time": "2025-10-17T23:21:28.765717Z"
    }
   },
   "cell_type": "code",
   "source": [
    "with open(ARCHIVE_CSV, \"w\", encoding=\"utf-8\", newline=\"\") as arq:\n",
    "    cabecalho = [\"id\", \"nome\", \"preco\", \"estoque\", \"valor_total\"]\n",
    "    writer = csv.DictWriter(arq, fieldnames=cabecalho)\n",
    "    writer.writeheader()\n",
    "\n",
    "    for produto in produtos:\n",
    "\n",
    "        writer.writerow({\n",
    "            \"id\": produto.get(\"id\"),\n",
    "            \"nome\": produto.get(\"nome\"),\n",
    "            \"preco\": produto.get(\"preco\"),\n",
    "            \"estoque\": produto.get(\"estoque\"),\n",
    "            \"valor_total\": round(float(produto.get(\"preco\")) * int(produto.get(\"estoque\")), 2)\n",
    "        })\n",
    "\n",
    "\n",
    "print(f\"Arquivo CSV {ARCHIVE_CSV} criado com sucesso!\")\n"
   ],
   "id": "9097cdfeaab53541",
   "outputs": [
    {
     "name": "stdout",
     "output_type": "stream",
     "text": [
      "Arquivo CSV produtos.csv criado com sucesso!\n"
     ]
    }
   ],
   "execution_count": 13
  }
 ],
 "metadata": {
  "kernelspec": {
   "display_name": "Python 3",
   "language": "python",
   "name": "python3"
  },
  "language_info": {
   "codemirror_mode": {
    "name": "ipython",
    "version": 2
   },
   "file_extension": ".py",
   "mimetype": "text/x-python",
   "name": "python",
   "nbconvert_exporter": "python",
   "pygments_lexer": "ipython2",
   "version": "2.7.6"
  }
 },
 "nbformat": 4,
 "nbformat_minor": 5
}
