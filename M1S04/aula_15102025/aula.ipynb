{
 "cells": [
  {
   "metadata": {
    "ExecuteTime": {
     "end_time": "2025-10-17T22:25:58.535751Z",
     "start_time": "2025-10-17T22:25:56.945785Z"
    }
   },
   "cell_type": "code",
   "source": [
    "# python\n",
    "import pandas as pd\n",
    "import numpy as np\n",
    "import matplotlib.pyplot as plt\n",
    "from pathlib import Path\n",
    "\n",
    "# Criar um CSV de exemplo (substituir por `vendas.csv` real se já existir)\n",
    "vendas_exemplo = pd.DataFrame([\n",
    "    {\"data\": \"2025-10-01\", \"produto\": \"Caneta\",  \"quantidade\": 10, \"valor\": 1.5},\n",
    "    {\"data\": \"2025-10-02\", \"produto\": \"Caderno\", \"quantidade\": 5,  \"valor\": 7.0},\n",
    "    {\"data\": \"2025-10-03\", \"produto\": \"Caneta\",  \"quantidade\": 3,  \"valor\": 1.5},\n",
    "    {\"data\": \"2025-10-04\", \"produto\": \"Borracha\", \"quantidade\": 7,  \"valor\": 0.8},\n",
    "])\n",
    "vendas_path = Path(\"vendas.csv\")\n",
    "vendas_exemplo.to_csv(vendas_path, index=False, encoding=\"utf-8\")\n",
    "\n",
    "# Ler o arquivo com pandas\n",
    "df = pd.read_csv(vendas_path, parse_dates=[\"data\"])\n",
    "\n",
    "# Comentário principal: calcular o valor total por linha e então agregar por produto.\n",
    "# - criar coluna `valor_total` por linha como quantidade * valor unitário\n",
    "df[\"valor_total\"] = df[\"quantidade\"] * df[\"valor\"]\n",
    "\n",
    "# Agregar por produto: soma das quantidades e soma dos valores totais\n",
    "relatorio = (\n",
    "    df.groupby(\"produto\", as_index=False)\n",
    "      .agg(total_vendido=(\"quantidade\", \"sum\"),\n",
    "           valor_total=(\"valor_total\", \"sum\"))\n",
    "      .sort_values(\"valor_total\", ascending=False)\n",
    ")\n",
    "\n",
    "# Salvar o relatório\n",
    "relatorio_path = Path(\"relatorio.csv\")\n",
    "relatorio.to_csv(relatorio_path, index=False, encoding=\"utf-8\")\n",
    "\n",
    "# Testes básicos para garantir que a agregação está correta\n",
    "# - a soma dos `total_vendido` deve coincidir com a soma das quantidades originais\n",
    "# - a soma de `valor_total` deve coincidir com a soma dos valores linha a linha\n",
    "try:\n",
    "    assert relatorio[\"total_vendido\"].sum() == df[\"quantidade\"].sum()\n",
    "    assert abs(relatorio[\"valor_total\"].sum() - df[\"valor_total\"].sum()) < 1e-6\n",
    "    print(\"Testes: OK — agregação consistente.\")\n",
    "except AssertionError:\n",
    "    print(\"Testes: FALHA — valores agregados não batem. Verifique os dados.\")\n",
    "\n",
    "# Mostrar resumo simples no terminal\n",
    "print(\"\\nDataFrame lido:\")\n",
    "print(df)\n",
    "print(\"\\nRelatório por produto:\")\n",
    "print(relatorio)\n",
    "\n",
    "# Plot rápido para checar visualmente (requer ambiente com GUI)\n",
    "# Comentário: gráfico de barras mostra quais produtos geraram mais receita\n",
    "relatorio.plot(kind=\"bar\", x=\"produto\", y=\"valor_total\", legend=False, ylabel=\"Valor total (R$)\")\n",
    "plt.tight_layout()\n",
    "plt.show()"
   ],
   "id": "db8e78260b17541",
   "outputs": [
    {
     "name": "stdout",
     "output_type": "stream",
     "text": [
      "Testes: OK — agregação consistente.\n",
      "\n",
      "DataFrame lido:\n",
      "        data   produto  quantidade  valor  valor_total\n",
      "0 2025-10-01    Caneta          10    1.5         15.0\n",
      "1 2025-10-02   Caderno           5    7.0         35.0\n",
      "2 2025-10-03    Caneta           3    1.5          4.5\n",
      "3 2025-10-04  Borracha           7    0.8          5.6\n",
      "\n",
      "Relatório por produto:\n",
      "    produto  total_vendido  valor_total\n",
      "1   Caderno              5         35.0\n",
      "2    Caneta             13         19.5\n",
      "0  Borracha              7          5.6\n"
     ]
    },
    {
     "data": {
      "text/plain": [
       "<Figure size 640x480 with 1 Axes>"
      ],
      "image/png": "[encoded data removed]"
     },
     "metadata": {},
     "output_type": "display_data",
     "jetTransient": {
      "display_id": null
     }
    }
   ],
   "execution_count": 1
  },
  {
   "metadata": {
    "ExecuteTime": {
     "end_time": "2025-10-17T22:35:30.833720Z",
     "start_time": "2025-10-17T22:35:30.816397Z"
    }
   },
   "cell_type": "code",
   "source": [
    "#!/usr/bin/env python3\n",
    "# python\n",
    "with open(\"vendas.csv\", \"r\", encoding=\"utf-8\") as arq:\n",
    "    vendas = {}\n",
    "    for linha in arq.readlines()[1:]:\n",
    "        data, produto, quantidade, valor = linha.strip().split(\",\")\n",
    "        quantidade = int(quantidade)\n",
    "        valor = float(valor)\n",
    "        if produto not in vendas:\n",
    "            vendas[produto] = {\"total_vendido\": 0, \"valor_total\": 0.0}\n",
    "        vendas[produto][\"total_vendido\"] += quantidade\n",
    "        vendas[produto][\"valor_total\"] += valor * quantidade\n",
    "\n",
    "with open(\"relatorio.csv\", \"w\", encoding=\"utf-8\") as arq:\n",
    "    arq.write(\"produto,total_vendido,valor_total\\n\")\n",
    "    for produto, info in vendas.items():\n",
    "        arq.write(f\"{produto},{info['total_vendido']},{info['valor_total']}\\n\")"
   ],
   "id": "e50970d8b5399604",
   "outputs": [],
   "execution_count": 2
  },
  {
   "metadata": {
    "ExecuteTime": {
     "end_time": "2025-10-17T22:43:36.594848Z",
     "start_time": "2025-10-17T22:43:36.584124Z"
    }
   },
   "cell_type": "code",
   "source": [
    "import json\n",
    "\n",
    "ARQUIVO_JSON = \"dados.json\"\n",
    "dados = {\"empresa\": \"Clamed\", \"ano\": 2025, \"produtos\" : [\"Shampoo\", \"Sabonete\"]}\n",
    "\n",
    "with open(ARQUIVO_JSON, \"w\", encoding=\"utf-8\") as arq:\n",
    "    json.dump(dados, arq, indent=4, ensure_ascii=False)\n",
    "\n",
    "with open(ARQUIVO_JSON, \"r\", encoding=\"utf-8\") as arq:\n",
    "    conteudo = json.load(arq)\n",
    "    print(conteudo[\"produtos\"])\n"
   ],
   "id": "7d1ab3b7151a282e",
   "outputs": [
    {
     "name": "stdout",
     "output_type": "stream",
     "text": [
      "cwd: C:\\Users\\marco\\PycharmProjects\\PythonProject\\M1S04\\aula_15102025\n",
      "abs path: C:\\Users\\marco\\PycharmProjects\\PythonProject\\M1S04\\aula_15102025\\dados.json\n",
      "gravado: True\n",
      "conteudo.produtos: ['Shampoo', 'Sabonete']\n"
     ]
    }
   ],
   "execution_count": 2
  }
 ],
 "metadata": {
  "kernelspec": {
   "display_name": "Python 3",
   "language": "python",
   "name": "python3"
  },
  "language_info": {
   "codemirror_mode": {
    "name": "ipython",
    "version": 2
   },
   "file_extension": ".py",
   "mimetype": "text/x-python",
   "name": "python",
   "nbconvert_exporter": "python",
   "pygments_lexer": "ipython2",
   "version": "2.7.6"
  }
 },
 "nbformat": 4,
 "nbformat_minor": 5
}
